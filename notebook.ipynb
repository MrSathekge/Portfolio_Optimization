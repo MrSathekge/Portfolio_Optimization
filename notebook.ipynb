{
 "cells": [
  {
   "attachments": {},
   "cell_type": "markdown",
   "metadata": {},
   "source": [
    "# Portfolio Optimization\n",
    "\n",
    "Portfolio Optimization is the process of selecting the best portfolio out of the set of portfolios being considered according to some objective. The objective typically maximizes factors such as:\n",
    "- Expected returns, and\n",
    "- Minimizes cost like financial risk\n",
    "\n",
    "The goal is to find the optimal combination of assets that will provide the highest expected return for a given level of risk or the lowest risk for a given level of return.\n",
    "\n",
    "The optimization process involves selecting a set of assets and determining the optimal allocation of funds to each asset. This requires analyzing historical market data, assessing the risk and return of each asset, and considering how the assets might perform under different market conditions.\n",
    "\n",
    "Portfolio optimization is an important tool for investors who want to achieve a specific investment goal, such as maximizing their returns or minimizing their risk. It is commonly used by fund managers, financial advisors, and individual investors to construct investment portfolios that meet their specific needs and objectives."
   ]
  },
  {
   "attachments": {},
   "cell_type": "markdown",
   "metadata": {},
   "source": [
    "### Data Description"
   ]
  },
  {
   "cell_type": "code",
   "execution_count": null,
   "metadata": {},
   "outputs": [],
   "source": []
  },
  {
   "attachments": {},
   "cell_type": "markdown",
   "metadata": {},
   "source": [
    "### Importing Packages"
   ]
  },
  {
   "cell_type": "code",
   "execution_count": 1,
   "metadata": {},
   "outputs": [
    {
     "name": "stderr",
     "output_type": "stream",
     "text": [
      "c:\\ProgramDataAnaconda\\lib\\site-packages\\scipy\\__init__.py:146: UserWarning: A NumPy version >=1.16.5 and <1.23.0 is required for this version of SciPy (detected version 1.24.1\n",
      "  warnings.warn(f\"A NumPy version >={np_minversion} and <{np_maxversion}\"\n"
     ]
    }
   ],
   "source": [
    "import pandas as pd\n",
    "import numpy as np\n",
    "import matplotlib.pyplot as plt\n",
    "import seaborn as sns\n",
    "%matplotlib inline\n",
    "import warnings\n",
    "warnings.filterwarnings('ignore')\n",
    "#import pandas_datareader as pdr\n",
    "from pandas_datareader import data as web # to scrape data from yahoo finance\n",
    "from datetime import datetime\n",
    "\n",
    "pd.options.display.max_columns = None   # so that we can see all columns by scrolling"
   ]
  },
  {
   "attachments": {},
   "cell_type": "markdown",
   "metadata": {},
   "source": [
    "### Getting the stock symbols/tickers\n",
    "- Meta(Facebook)\n",
    "- Netflix\n",
    "- Google\n",
    "- AMD\n"
   ]
  },
  {
   "attachments": {},
   "cell_type": "markdown",
   "metadata": {},
   "source": [
    "# Using yfinance and pandas-datareader"
   ]
  },
  {
   "attachments": {},
   "cell_type": "markdown",
   "metadata": {},
   "source": [
    "# Using yfinance\n",
    "\n",
    "https://www.alpharithms.com/python-financial-data-491110/"
   ]
  },
  {
   "cell_type": "code",
   "execution_count": 2,
   "metadata": {},
   "outputs": [],
   "source": [
    "import yfinance as yf"
   ]
  },
  {
   "cell_type": "code",
   "execution_count": 3,
   "metadata": {},
   "outputs": [],
   "source": [
    "# Request historical data for past 8 years\n",
    "data = yf.Ticker(\"AMD\").history(period='8y')"
   ]
  },
  {
   "cell_type": "code",
   "execution_count": 5,
   "metadata": {},
   "outputs": [
    {
     "data": {
      "text/html": [
       "<div>\n",
       "<style scoped>\n",
       "    .dataframe tbody tr th:only-of-type {\n",
       "        vertical-align: middle;\n",
       "    }\n",
       "\n",
       "    .dataframe tbody tr th {\n",
       "        vertical-align: top;\n",
       "    }\n",
       "\n",
       "    .dataframe thead th {\n",
       "        text-align: right;\n",
       "    }\n",
       "</style>\n",
       "<table border=\"1\" class=\"dataframe\">\n",
       "  <thead>\n",
       "    <tr style=\"text-align: right;\">\n",
       "      <th></th>\n",
       "      <th>Open</th>\n",
       "      <th>High</th>\n",
       "      <th>Low</th>\n",
       "      <th>Close</th>\n",
       "      <th>Volume</th>\n",
       "      <th>Dividends</th>\n",
       "      <th>Stock Splits</th>\n",
       "    </tr>\n",
       "    <tr>\n",
       "      <th>Date</th>\n",
       "      <th></th>\n",
       "      <th></th>\n",
       "      <th></th>\n",
       "      <th></th>\n",
       "      <th></th>\n",
       "      <th></th>\n",
       "      <th></th>\n",
       "    </tr>\n",
       "  </thead>\n",
       "  <tbody>\n",
       "    <tr>\n",
       "      <th>2015-03-02 00:00:00-05:00</th>\n",
       "      <td>3.13</td>\n",
       "      <td>3.23</td>\n",
       "      <td>3.11</td>\n",
       "      <td>3.21</td>\n",
       "      <td>15638100</td>\n",
       "      <td>0.0</td>\n",
       "      <td>0.0</td>\n",
       "    </tr>\n",
       "    <tr>\n",
       "      <th>2015-03-03 00:00:00-05:00</th>\n",
       "      <td>3.20</td>\n",
       "      <td>3.23</td>\n",
       "      <td>3.13</td>\n",
       "      <td>3.14</td>\n",
       "      <td>8644000</td>\n",
       "      <td>0.0</td>\n",
       "      <td>0.0</td>\n",
       "    </tr>\n",
       "    <tr>\n",
       "      <th>2015-03-04 00:00:00-05:00</th>\n",
       "      <td>3.14</td>\n",
       "      <td>3.14</td>\n",
       "      <td>3.01</td>\n",
       "      <td>3.05</td>\n",
       "      <td>12122100</td>\n",
       "      <td>0.0</td>\n",
       "      <td>0.0</td>\n",
       "    </tr>\n",
       "    <tr>\n",
       "      <th>2015-03-05 00:00:00-05:00</th>\n",
       "      <td>3.10</td>\n",
       "      <td>3.10</td>\n",
       "      <td>2.98</td>\n",
       "      <td>2.98</td>\n",
       "      <td>11472300</td>\n",
       "      <td>0.0</td>\n",
       "      <td>0.0</td>\n",
       "    </tr>\n",
       "    <tr>\n",
       "      <th>2015-03-06 00:00:00-05:00</th>\n",
       "      <td>2.96</td>\n",
       "      <td>2.99</td>\n",
       "      <td>2.83</td>\n",
       "      <td>2.92</td>\n",
       "      <td>16785200</td>\n",
       "      <td>0.0</td>\n",
       "      <td>0.0</td>\n",
       "    </tr>\n",
       "  </tbody>\n",
       "</table>\n",
       "</div>"
      ],
      "text/plain": [
       "                           Open  High   Low  Close    Volume  Dividends  \\\n",
       "Date                                                                      \n",
       "2015-03-02 00:00:00-05:00  3.13  3.23  3.11   3.21  15638100        0.0   \n",
       "2015-03-03 00:00:00-05:00  3.20  3.23  3.13   3.14   8644000        0.0   \n",
       "2015-03-04 00:00:00-05:00  3.14  3.14  3.01   3.05  12122100        0.0   \n",
       "2015-03-05 00:00:00-05:00  3.10  3.10  2.98   2.98  11472300        0.0   \n",
       "2015-03-06 00:00:00-05:00  2.96  2.99  2.83   2.92  16785200        0.0   \n",
       "\n",
       "                           Stock Splits  \n",
       "Date                                     \n",
       "2015-03-02 00:00:00-05:00           0.0  \n",
       "2015-03-03 00:00:00-05:00           0.0  \n",
       "2015-03-04 00:00:00-05:00           0.0  \n",
       "2015-03-05 00:00:00-05:00           0.0  \n",
       "2015-03-06 00:00:00-05:00           0.0  "
      ]
     },
     "execution_count": 5,
     "metadata": {},
     "output_type": "execute_result"
    }
   ],
   "source": [
    "data.head()"
   ]
  },
  {
   "attachments": {},
   "cell_type": "markdown",
   "metadata": {},
   "source": [
    "### META (Facebook)"
   ]
  },
  {
   "cell_type": "code",
   "execution_count": 6,
   "metadata": {},
   "outputs": [],
   "source": [
    "data2 = yf.Ticker(\"META\").history(period='8y')   # META = Facebook"
   ]
  },
  {
   "cell_type": "code",
   "execution_count": 7,
   "metadata": {},
   "outputs": [
    {
     "data": {
      "text/html": [
       "<div>\n",
       "<style scoped>\n",
       "    .dataframe tbody tr th:only-of-type {\n",
       "        vertical-align: middle;\n",
       "    }\n",
       "\n",
       "    .dataframe tbody tr th {\n",
       "        vertical-align: top;\n",
       "    }\n",
       "\n",
       "    .dataframe thead th {\n",
       "        text-align: right;\n",
       "    }\n",
       "</style>\n",
       "<table border=\"1\" class=\"dataframe\">\n",
       "  <thead>\n",
       "    <tr style=\"text-align: right;\">\n",
       "      <th></th>\n",
       "      <th>Open</th>\n",
       "      <th>High</th>\n",
       "      <th>Low</th>\n",
       "      <th>Close</th>\n",
       "      <th>Volume</th>\n",
       "      <th>Dividends</th>\n",
       "      <th>Stock Splits</th>\n",
       "    </tr>\n",
       "    <tr>\n",
       "      <th>Date</th>\n",
       "      <th></th>\n",
       "      <th></th>\n",
       "      <th></th>\n",
       "      <th></th>\n",
       "      <th></th>\n",
       "      <th></th>\n",
       "      <th></th>\n",
       "    </tr>\n",
       "  </thead>\n",
       "  <tbody>\n",
       "    <tr>\n",
       "      <th>2015-03-02 00:00:00-05:00</th>\n",
       "      <td>79.000000</td>\n",
       "      <td>79.860001</td>\n",
       "      <td>78.519997</td>\n",
       "      <td>79.750000</td>\n",
       "      <td>21662500</td>\n",
       "      <td>0.0</td>\n",
       "      <td>0.0</td>\n",
       "    </tr>\n",
       "    <tr>\n",
       "      <th>2015-03-03 00:00:00-05:00</th>\n",
       "      <td>79.610001</td>\n",
       "      <td>79.699997</td>\n",
       "      <td>78.519997</td>\n",
       "      <td>79.599998</td>\n",
       "      <td>18635000</td>\n",
       "      <td>0.0</td>\n",
       "      <td>0.0</td>\n",
       "    </tr>\n",
       "    <tr>\n",
       "      <th>2015-03-04 00:00:00-05:00</th>\n",
       "      <td>79.300003</td>\n",
       "      <td>81.150002</td>\n",
       "      <td>78.849998</td>\n",
       "      <td>80.900002</td>\n",
       "      <td>28126700</td>\n",
       "      <td>0.0</td>\n",
       "      <td>0.0</td>\n",
       "    </tr>\n",
       "    <tr>\n",
       "      <th>2015-03-05 00:00:00-05:00</th>\n",
       "      <td>81.230003</td>\n",
       "      <td>81.989998</td>\n",
       "      <td>81.050003</td>\n",
       "      <td>81.209999</td>\n",
       "      <td>27825700</td>\n",
       "      <td>0.0</td>\n",
       "      <td>0.0</td>\n",
       "    </tr>\n",
       "    <tr>\n",
       "      <th>2015-03-06 00:00:00-05:00</th>\n",
       "      <td>80.900002</td>\n",
       "      <td>81.330002</td>\n",
       "      <td>79.830002</td>\n",
       "      <td>80.010002</td>\n",
       "      <td>24488600</td>\n",
       "      <td>0.0</td>\n",
       "      <td>0.0</td>\n",
       "    </tr>\n",
       "  </tbody>\n",
       "</table>\n",
       "</div>"
      ],
      "text/plain": [
       "                                Open       High        Low      Close  \\\n",
       "Date                                                                    \n",
       "2015-03-02 00:00:00-05:00  79.000000  79.860001  78.519997  79.750000   \n",
       "2015-03-03 00:00:00-05:00  79.610001  79.699997  78.519997  79.599998   \n",
       "2015-03-04 00:00:00-05:00  79.300003  81.150002  78.849998  80.900002   \n",
       "2015-03-05 00:00:00-05:00  81.230003  81.989998  81.050003  81.209999   \n",
       "2015-03-06 00:00:00-05:00  80.900002  81.330002  79.830002  80.010002   \n",
       "\n",
       "                             Volume  Dividends  Stock Splits  \n",
       "Date                                                          \n",
       "2015-03-02 00:00:00-05:00  21662500        0.0           0.0  \n",
       "2015-03-03 00:00:00-05:00  18635000        0.0           0.0  \n",
       "2015-03-04 00:00:00-05:00  28126700        0.0           0.0  \n",
       "2015-03-05 00:00:00-05:00  27825700        0.0           0.0  \n",
       "2015-03-06 00:00:00-05:00  24488600        0.0           0.0  "
      ]
     },
     "execution_count": 7,
     "metadata": {},
     "output_type": "execute_result"
    }
   ],
   "source": [
    "data2.head()"
   ]
  },
  {
   "attachments": {},
   "cell_type": "markdown",
   "metadata": {},
   "source": [
    "### Netflix"
   ]
  },
  {
   "cell_type": "code",
   "execution_count": 8,
   "metadata": {},
   "outputs": [],
   "source": [
    "data3 = yf.Ticker(\"NFLX\").history(period='8y')"
   ]
  },
  {
   "cell_type": "code",
   "execution_count": 9,
   "metadata": {},
   "outputs": [
    {
     "data": {
      "text/html": [
       "<div>\n",
       "<style scoped>\n",
       "    .dataframe tbody tr th:only-of-type {\n",
       "        vertical-align: middle;\n",
       "    }\n",
       "\n",
       "    .dataframe tbody tr th {\n",
       "        vertical-align: top;\n",
       "    }\n",
       "\n",
       "    .dataframe thead th {\n",
       "        text-align: right;\n",
       "    }\n",
       "</style>\n",
       "<table border=\"1\" class=\"dataframe\">\n",
       "  <thead>\n",
       "    <tr style=\"text-align: right;\">\n",
       "      <th></th>\n",
       "      <th>Open</th>\n",
       "      <th>High</th>\n",
       "      <th>Low</th>\n",
       "      <th>Close</th>\n",
       "      <th>Volume</th>\n",
       "      <th>Dividends</th>\n",
       "      <th>Stock Splits</th>\n",
       "    </tr>\n",
       "    <tr>\n",
       "      <th>Date</th>\n",
       "      <th></th>\n",
       "      <th></th>\n",
       "      <th></th>\n",
       "      <th></th>\n",
       "      <th></th>\n",
       "      <th></th>\n",
       "      <th></th>\n",
       "    </tr>\n",
       "  </thead>\n",
       "  <tbody>\n",
       "    <tr>\n",
       "      <th>2015-03-02 00:00:00-05:00</th>\n",
       "      <td>67.714287</td>\n",
       "      <td>68.607140</td>\n",
       "      <td>67.234283</td>\n",
       "      <td>68.607140</td>\n",
       "      <td>10187100</td>\n",
       "      <td>0.0</td>\n",
       "      <td>0.0</td>\n",
       "    </tr>\n",
       "    <tr>\n",
       "      <th>2015-03-03 00:00:00-05:00</th>\n",
       "      <td>68.344284</td>\n",
       "      <td>68.457146</td>\n",
       "      <td>67.507141</td>\n",
       "      <td>67.815712</td>\n",
       "      <td>7426300</td>\n",
       "      <td>0.0</td>\n",
       "      <td>0.0</td>\n",
       "    </tr>\n",
       "    <tr>\n",
       "      <th>2015-03-04 00:00:00-05:00</th>\n",
       "      <td>67.529999</td>\n",
       "      <td>67.925713</td>\n",
       "      <td>66.182854</td>\n",
       "      <td>67.110001</td>\n",
       "      <td>17453800</td>\n",
       "      <td>0.0</td>\n",
       "      <td>0.0</td>\n",
       "    </tr>\n",
       "    <tr>\n",
       "      <th>2015-03-05 00:00:00-05:00</th>\n",
       "      <td>67.428574</td>\n",
       "      <td>67.464287</td>\n",
       "      <td>66.419998</td>\n",
       "      <td>66.807144</td>\n",
       "      <td>11244800</td>\n",
       "      <td>0.0</td>\n",
       "      <td>0.0</td>\n",
       "    </tr>\n",
       "    <tr>\n",
       "      <th>2015-03-06 00:00:00-05:00</th>\n",
       "      <td>66.642860</td>\n",
       "      <td>66.925713</td>\n",
       "      <td>64.844284</td>\n",
       "      <td>64.874283</td>\n",
       "      <td>12888400</td>\n",
       "      <td>0.0</td>\n",
       "      <td>0.0</td>\n",
       "    </tr>\n",
       "  </tbody>\n",
       "</table>\n",
       "</div>"
      ],
      "text/plain": [
       "                                Open       High        Low      Close  \\\n",
       "Date                                                                    \n",
       "2015-03-02 00:00:00-05:00  67.714287  68.607140  67.234283  68.607140   \n",
       "2015-03-03 00:00:00-05:00  68.344284  68.457146  67.507141  67.815712   \n",
       "2015-03-04 00:00:00-05:00  67.529999  67.925713  66.182854  67.110001   \n",
       "2015-03-05 00:00:00-05:00  67.428574  67.464287  66.419998  66.807144   \n",
       "2015-03-06 00:00:00-05:00  66.642860  66.925713  64.844284  64.874283   \n",
       "\n",
       "                             Volume  Dividends  Stock Splits  \n",
       "Date                                                          \n",
       "2015-03-02 00:00:00-05:00  10187100        0.0           0.0  \n",
       "2015-03-03 00:00:00-05:00   7426300        0.0           0.0  \n",
       "2015-03-04 00:00:00-05:00  17453800        0.0           0.0  \n",
       "2015-03-05 00:00:00-05:00  11244800        0.0           0.0  \n",
       "2015-03-06 00:00:00-05:00  12888400        0.0           0.0  "
      ]
     },
     "execution_count": 9,
     "metadata": {},
     "output_type": "execute_result"
    }
   ],
   "source": [
    "data3.head()"
   ]
  },
  {
   "cell_type": "code",
   "execution_count": 11,
   "metadata": {},
   "outputs": [
    {
     "data": {
      "text/html": [
       "<div>\n",
       "<style scoped>\n",
       "    .dataframe tbody tr th:only-of-type {\n",
       "        vertical-align: middle;\n",
       "    }\n",
       "\n",
       "    .dataframe tbody tr th {\n",
       "        vertical-align: top;\n",
       "    }\n",
       "\n",
       "    .dataframe thead th {\n",
       "        text-align: right;\n",
       "    }\n",
       "</style>\n",
       "<table border=\"1\" class=\"dataframe\">\n",
       "  <thead>\n",
       "    <tr style=\"text-align: right;\">\n",
       "      <th></th>\n",
       "      <th>Open</th>\n",
       "      <th>High</th>\n",
       "      <th>Low</th>\n",
       "      <th>Close</th>\n",
       "      <th>Volume</th>\n",
       "      <th>Dividends</th>\n",
       "      <th>Stock Splits</th>\n",
       "    </tr>\n",
       "    <tr>\n",
       "      <th>Date</th>\n",
       "      <th></th>\n",
       "      <th></th>\n",
       "      <th></th>\n",
       "      <th></th>\n",
       "      <th></th>\n",
       "      <th></th>\n",
       "      <th></th>\n",
       "    </tr>\n",
       "  </thead>\n",
       "  <tbody>\n",
       "    <tr>\n",
       "      <th>2015-03-02 00:00:00-05:00</th>\n",
       "      <td>29.156196</td>\n",
       "      <td>29.388543</td>\n",
       "      <td>28.941895</td>\n",
       "      <td>29.120102</td>\n",
       "      <td>192386800</td>\n",
       "      <td>0.0</td>\n",
       "      <td>0.0</td>\n",
       "    </tr>\n",
       "    <tr>\n",
       "      <th>2015-03-03 00:00:00-05:00</th>\n",
       "      <td>29.090783</td>\n",
       "      <td>29.217107</td>\n",
       "      <td>28.894526</td>\n",
       "      <td>29.181013</td>\n",
       "      <td>151265200</td>\n",
       "      <td>0.0</td>\n",
       "      <td>0.0</td>\n",
       "    </tr>\n",
       "    <tr>\n",
       "      <th>2015-03-04 00:00:00-05:00</th>\n",
       "      <td>29.122360</td>\n",
       "      <td>29.226125</td>\n",
       "      <td>28.946408</td>\n",
       "      <td>28.996033</td>\n",
       "      <td>126665200</td>\n",
       "      <td>0.0</td>\n",
       "      <td>0.0</td>\n",
       "    </tr>\n",
       "    <tr>\n",
       "      <th>2015-03-05 00:00:00-05:00</th>\n",
       "      <td>29.005060</td>\n",
       "      <td>29.043409</td>\n",
       "      <td>28.368925</td>\n",
       "      <td>28.515553</td>\n",
       "      <td>226068400</td>\n",
       "      <td>0.0</td>\n",
       "      <td>0.0</td>\n",
       "    </tr>\n",
       "    <tr>\n",
       "      <th>2015-03-06 00:00:00-05:00</th>\n",
       "      <td>28.964453</td>\n",
       "      <td>29.183266</td>\n",
       "      <td>28.481714</td>\n",
       "      <td>28.558411</td>\n",
       "      <td>291368400</td>\n",
       "      <td>0.0</td>\n",
       "      <td>0.0</td>\n",
       "    </tr>\n",
       "  </tbody>\n",
       "</table>\n",
       "</div>"
      ],
      "text/plain": [
       "                                Open       High        Low      Close  \\\n",
       "Date                                                                    \n",
       "2015-03-02 00:00:00-05:00  29.156196  29.388543  28.941895  29.120102   \n",
       "2015-03-03 00:00:00-05:00  29.090783  29.217107  28.894526  29.181013   \n",
       "2015-03-04 00:00:00-05:00  29.122360  29.226125  28.946408  28.996033   \n",
       "2015-03-05 00:00:00-05:00  29.005060  29.043409  28.368925  28.515553   \n",
       "2015-03-06 00:00:00-05:00  28.964453  29.183266  28.481714  28.558411   \n",
       "\n",
       "                              Volume  Dividends  Stock Splits  \n",
       "Date                                                           \n",
       "2015-03-02 00:00:00-05:00  192386800        0.0           0.0  \n",
       "2015-03-03 00:00:00-05:00  151265200        0.0           0.0  \n",
       "2015-03-04 00:00:00-05:00  126665200        0.0           0.0  \n",
       "2015-03-05 00:00:00-05:00  226068400        0.0           0.0  \n",
       "2015-03-06 00:00:00-05:00  291368400        0.0           0.0  "
      ]
     },
     "execution_count": 11,
     "metadata": {},
     "output_type": "execute_result"
    }
   ],
   "source": [
    "data4 = yf.Ticker(\"AAPL\").history(period='8y')\n",
    "data4.head()"
   ]
  },
  {
   "cell_type": "code",
   "execution_count": 12,
   "metadata": {},
   "outputs": [
    {
     "data": {
      "text/html": [
       "<div>\n",
       "<style scoped>\n",
       "    .dataframe tbody tr th:only-of-type {\n",
       "        vertical-align: middle;\n",
       "    }\n",
       "\n",
       "    .dataframe tbody tr th {\n",
       "        vertical-align: top;\n",
       "    }\n",
       "\n",
       "    .dataframe thead th {\n",
       "        text-align: right;\n",
       "    }\n",
       "</style>\n",
       "<table border=\"1\" class=\"dataframe\">\n",
       "  <thead>\n",
       "    <tr style=\"text-align: right;\">\n",
       "      <th></th>\n",
       "      <th>Open</th>\n",
       "      <th>High</th>\n",
       "      <th>Low</th>\n",
       "      <th>Close</th>\n",
       "      <th>Volume</th>\n",
       "      <th>Dividends</th>\n",
       "      <th>Stock Splits</th>\n",
       "    </tr>\n",
       "    <tr>\n",
       "      <th>Date</th>\n",
       "      <th></th>\n",
       "      <th></th>\n",
       "      <th></th>\n",
       "      <th></th>\n",
       "      <th></th>\n",
       "      <th></th>\n",
       "      <th></th>\n",
       "    </tr>\n",
       "  </thead>\n",
       "  <tbody>\n",
       "    <tr>\n",
       "      <th>2015-03-02 00:00:00-05:00</th>\n",
       "      <td>27.949764</td>\n",
       "      <td>28.529173</td>\n",
       "      <td>27.861008</td>\n",
       "      <td>28.488785</td>\n",
       "      <td>42592618</td>\n",
       "      <td>0.0</td>\n",
       "      <td>0.0</td>\n",
       "    </tr>\n",
       "    <tr>\n",
       "      <th>2015-03-03 00:00:00-05:00</th>\n",
       "      <td>28.444407</td>\n",
       "      <td>28.690729</td>\n",
       "      <td>28.248444</td>\n",
       "      <td>28.603470</td>\n",
       "      <td>34095352</td>\n",
       "      <td>0.0</td>\n",
       "      <td>0.0</td>\n",
       "    </tr>\n",
       "    <tr>\n",
       "      <th>2015-03-04 00:00:00-05:00</th>\n",
       "      <td>28.515211</td>\n",
       "      <td>28.776493</td>\n",
       "      <td>28.322741</td>\n",
       "      <td>28.590006</td>\n",
       "      <td>37536775</td>\n",
       "      <td>0.0</td>\n",
       "      <td>0.0</td>\n",
       "    </tr>\n",
       "    <tr>\n",
       "      <th>2015-03-05 00:00:00-05:00</th>\n",
       "      <td>28.672279</td>\n",
       "      <td>28.816385</td>\n",
       "      <td>28.592001</td>\n",
       "      <td>28.687738</td>\n",
       "      <td>27792094</td>\n",
       "      <td>0.0</td>\n",
       "      <td>0.0</td>\n",
       "    </tr>\n",
       "    <tr>\n",
       "      <th>2015-03-06 00:00:00-05:00</th>\n",
       "      <td>28.665298</td>\n",
       "      <td>28.755053</td>\n",
       "      <td>28.260410</td>\n",
       "      <td>28.306534</td>\n",
       "      <td>33182854</td>\n",
       "      <td>0.0</td>\n",
       "      <td>0.0</td>\n",
       "    </tr>\n",
       "  </tbody>\n",
       "</table>\n",
       "</div>"
      ],
      "text/plain": [
       "                                Open       High        Low      Close  \\\n",
       "Date                                                                    \n",
       "2015-03-02 00:00:00-05:00  27.949764  28.529173  27.861008  28.488785   \n",
       "2015-03-03 00:00:00-05:00  28.444407  28.690729  28.248444  28.603470   \n",
       "2015-03-04 00:00:00-05:00  28.515211  28.776493  28.322741  28.590006   \n",
       "2015-03-05 00:00:00-05:00  28.672279  28.816385  28.592001  28.687738   \n",
       "2015-03-06 00:00:00-05:00  28.665298  28.755053  28.260410  28.306534   \n",
       "\n",
       "                             Volume  Dividends  Stock Splits  \n",
       "Date                                                          \n",
       "2015-03-02 00:00:00-05:00  42592618        0.0           0.0  \n",
       "2015-03-03 00:00:00-05:00  34095352        0.0           0.0  \n",
       "2015-03-04 00:00:00-05:00  37536775        0.0           0.0  \n",
       "2015-03-05 00:00:00-05:00  27792094        0.0           0.0  \n",
       "2015-03-06 00:00:00-05:00  33182854        0.0           0.0  "
      ]
     },
     "execution_count": 12,
     "metadata": {},
     "output_type": "execute_result"
    }
   ],
   "source": [
    "data5 = yf.Ticker(\"GOOG\").history(period='8y')\n",
    "data5.head()"
   ]
  },
  {
   "attachments": {},
   "cell_type": "markdown",
   "metadata": {},
   "source": [
    "### Dropping unnecessary columns\n",
    "We only need the 'Close' price column for each stock"
   ]
  },
  {
   "cell_type": "code",
   "execution_count": 13,
   "metadata": {},
   "outputs": [],
   "source": [
    "data = data.drop(columns=['Open','High', 'Low', 'Volume', 'Dividends', 'Stock Splits'], axis=1)\n",
    "data2 = data2.drop(columns=['Open','High', 'Low', 'Volume', 'Dividends', 'Stock Splits'], axis=1)\n",
    "data3 = data3.drop(columns=['Open','High', 'Low', 'Volume', 'Dividends', 'Stock Splits'], axis=1)\n",
    "data4 = data4.drop(columns=['Open','High', 'Low', 'Volume', 'Dividends', 'Stock Splits'], axis=1)\n",
    "data5 = data5.drop(columns=['Open','High', 'Low', 'Volume', 'Dividends', 'Stock Splits'], axis=1)"
   ]
  },
  {
   "cell_type": "code",
   "execution_count": 15,
   "metadata": {},
   "outputs": [],
   "source": [
    "data_data2 = pd.merge(data,data2, on=\"Date\")"
   ]
  },
  {
   "cell_type": "code",
   "execution_count": 16,
   "metadata": {},
   "outputs": [
    {
     "data": {
      "text/html": [
       "<div>\n",
       "<style scoped>\n",
       "    .dataframe tbody tr th:only-of-type {\n",
       "        vertical-align: middle;\n",
       "    }\n",
       "\n",
       "    .dataframe tbody tr th {\n",
       "        vertical-align: top;\n",
       "    }\n",
       "\n",
       "    .dataframe thead th {\n",
       "        text-align: right;\n",
       "    }\n",
       "</style>\n",
       "<table border=\"1\" class=\"dataframe\">\n",
       "  <thead>\n",
       "    <tr style=\"text-align: right;\">\n",
       "      <th></th>\n",
       "      <th>Close_x</th>\n",
       "      <th>Close_y</th>\n",
       "    </tr>\n",
       "    <tr>\n",
       "      <th>Date</th>\n",
       "      <th></th>\n",
       "      <th></th>\n",
       "    </tr>\n",
       "  </thead>\n",
       "  <tbody>\n",
       "    <tr>\n",
       "      <th>2015-03-02 00:00:00-05:00</th>\n",
       "      <td>3.21</td>\n",
       "      <td>79.750000</td>\n",
       "    </tr>\n",
       "    <tr>\n",
       "      <th>2015-03-03 00:00:00-05:00</th>\n",
       "      <td>3.14</td>\n",
       "      <td>79.599998</td>\n",
       "    </tr>\n",
       "    <tr>\n",
       "      <th>2015-03-04 00:00:00-05:00</th>\n",
       "      <td>3.05</td>\n",
       "      <td>80.900002</td>\n",
       "    </tr>\n",
       "    <tr>\n",
       "      <th>2015-03-05 00:00:00-05:00</th>\n",
       "      <td>2.98</td>\n",
       "      <td>81.209999</td>\n",
       "    </tr>\n",
       "    <tr>\n",
       "      <th>2015-03-06 00:00:00-05:00</th>\n",
       "      <td>2.92</td>\n",
       "      <td>80.010002</td>\n",
       "    </tr>\n",
       "  </tbody>\n",
       "</table>\n",
       "</div>"
      ],
      "text/plain": [
       "                           Close_x    Close_y\n",
       "Date                                         \n",
       "2015-03-02 00:00:00-05:00     3.21  79.750000\n",
       "2015-03-03 00:00:00-05:00     3.14  79.599998\n",
       "2015-03-04 00:00:00-05:00     3.05  80.900002\n",
       "2015-03-05 00:00:00-05:00     2.98  81.209999\n",
       "2015-03-06 00:00:00-05:00     2.92  80.010002"
      ]
     },
     "execution_count": 16,
     "metadata": {},
     "output_type": "execute_result"
    }
   ],
   "source": [
    "data_data2.head()"
   ]
  },
  {
   "cell_type": "code",
   "execution_count": 17,
   "metadata": {},
   "outputs": [],
   "source": [
    "data_data2_data3 = pd.merge(data_data2,data3, on=\"Date\")"
   ]
  },
  {
   "cell_type": "code",
   "execution_count": 18,
   "metadata": {},
   "outputs": [],
   "source": [
    "data_data2_data3_data4 = pd.merge(data_data2_data3,data4, on=\"Date\")"
   ]
  },
  {
   "cell_type": "code",
   "execution_count": null,
   "metadata": {},
   "outputs": [],
   "source": [
    "data_data2_data3_data4 = pd.merge(data_data2_data3,data4, on=\"Date\")"
   ]
  },
  {
   "cell_type": "code",
   "execution_count": 20,
   "metadata": {},
   "outputs": [],
   "source": [
    "final_df = pd.merge(data_data2_data3_data4,data5, on=\"Date\")"
   ]
  },
  {
   "cell_type": "code",
   "execution_count": 21,
   "metadata": {},
   "outputs": [
    {
     "data": {
      "text/html": [
       "<div>\n",
       "<style scoped>\n",
       "    .dataframe tbody tr th:only-of-type {\n",
       "        vertical-align: middle;\n",
       "    }\n",
       "\n",
       "    .dataframe tbody tr th {\n",
       "        vertical-align: top;\n",
       "    }\n",
       "\n",
       "    .dataframe thead th {\n",
       "        text-align: right;\n",
       "    }\n",
       "</style>\n",
       "<table border=\"1\" class=\"dataframe\">\n",
       "  <thead>\n",
       "    <tr style=\"text-align: right;\">\n",
       "      <th></th>\n",
       "      <th>Close_x</th>\n",
       "      <th>Close_y</th>\n",
       "      <th>Close_x</th>\n",
       "      <th>Close_y</th>\n",
       "      <th>Close</th>\n",
       "    </tr>\n",
       "    <tr>\n",
       "      <th>Date</th>\n",
       "      <th></th>\n",
       "      <th></th>\n",
       "      <th></th>\n",
       "      <th></th>\n",
       "      <th></th>\n",
       "    </tr>\n",
       "  </thead>\n",
       "  <tbody>\n",
       "    <tr>\n",
       "      <th>2015-03-02 00:00:00-05:00</th>\n",
       "      <td>3.21</td>\n",
       "      <td>79.750000</td>\n",
       "      <td>68.607140</td>\n",
       "      <td>29.120102</td>\n",
       "      <td>28.488785</td>\n",
       "    </tr>\n",
       "    <tr>\n",
       "      <th>2015-03-03 00:00:00-05:00</th>\n",
       "      <td>3.14</td>\n",
       "      <td>79.599998</td>\n",
       "      <td>67.815712</td>\n",
       "      <td>29.181013</td>\n",
       "      <td>28.603470</td>\n",
       "    </tr>\n",
       "    <tr>\n",
       "      <th>2015-03-04 00:00:00-05:00</th>\n",
       "      <td>3.05</td>\n",
       "      <td>80.900002</td>\n",
       "      <td>67.110001</td>\n",
       "      <td>28.996033</td>\n",
       "      <td>28.590006</td>\n",
       "    </tr>\n",
       "    <tr>\n",
       "      <th>2015-03-05 00:00:00-05:00</th>\n",
       "      <td>2.98</td>\n",
       "      <td>81.209999</td>\n",
       "      <td>66.807144</td>\n",
       "      <td>28.515553</td>\n",
       "      <td>28.687738</td>\n",
       "    </tr>\n",
       "    <tr>\n",
       "      <th>2015-03-06 00:00:00-05:00</th>\n",
       "      <td>2.92</td>\n",
       "      <td>80.010002</td>\n",
       "      <td>64.874283</td>\n",
       "      <td>28.558411</td>\n",
       "      <td>28.306534</td>\n",
       "    </tr>\n",
       "  </tbody>\n",
       "</table>\n",
       "</div>"
      ],
      "text/plain": [
       "                           Close_x    Close_y    Close_x    Close_y      Close\n",
       "Date                                                                          \n",
       "2015-03-02 00:00:00-05:00     3.21  79.750000  68.607140  29.120102  28.488785\n",
       "2015-03-03 00:00:00-05:00     3.14  79.599998  67.815712  29.181013  28.603470\n",
       "2015-03-04 00:00:00-05:00     3.05  80.900002  67.110001  28.996033  28.590006\n",
       "2015-03-05 00:00:00-05:00     2.98  81.209999  66.807144  28.515553  28.687738\n",
       "2015-03-06 00:00:00-05:00     2.92  80.010002  64.874283  28.558411  28.306534"
      ]
     },
     "execution_count": 21,
     "metadata": {},
     "output_type": "execute_result"
    }
   ],
   "source": [
    "final_df.head()"
   ]
  },
  {
   "attachments": {},
   "cell_type": "markdown",
   "metadata": {},
   "source": [
    "### Renaming the columns to something more readable"
   ]
  },
  {
   "cell_type": "code",
   "execution_count": 22,
   "metadata": {},
   "outputs": [],
   "source": [
    "final_df = final_df.rename(columns={'Close_x': 'AMD', 'Close_y': 'META', 'Close_x': 'NFLX',  'Close_y': 'AAPL',  'Close': 'GOOG'})"
   ]
  },
  {
   "cell_type": "code",
   "execution_count": 23,
   "metadata": {},
   "outputs": [
    {
     "data": {
      "text/html": [
       "<div>\n",
       "<style scoped>\n",
       "    .dataframe tbody tr th:only-of-type {\n",
       "        vertical-align: middle;\n",
       "    }\n",
       "\n",
       "    .dataframe tbody tr th {\n",
       "        vertical-align: top;\n",
       "    }\n",
       "\n",
       "    .dataframe thead th {\n",
       "        text-align: right;\n",
       "    }\n",
       "</style>\n",
       "<table border=\"1\" class=\"dataframe\">\n",
       "  <thead>\n",
       "    <tr style=\"text-align: right;\">\n",
       "      <th></th>\n",
       "      <th>NFLX</th>\n",
       "      <th>AAPL</th>\n",
       "      <th>NFLX</th>\n",
       "      <th>AAPL</th>\n",
       "      <th>GOOG</th>\n",
       "    </tr>\n",
       "    <tr>\n",
       "      <th>Date</th>\n",
       "      <th></th>\n",
       "      <th></th>\n",
       "      <th></th>\n",
       "      <th></th>\n",
       "      <th></th>\n",
       "    </tr>\n",
       "  </thead>\n",
       "  <tbody>\n",
       "    <tr>\n",
       "      <th>2015-03-02 00:00:00-05:00</th>\n",
       "      <td>3.21</td>\n",
       "      <td>79.750000</td>\n",
       "      <td>68.607140</td>\n",
       "      <td>29.120102</td>\n",
       "      <td>28.488785</td>\n",
       "    </tr>\n",
       "    <tr>\n",
       "      <th>2015-03-03 00:00:00-05:00</th>\n",
       "      <td>3.14</td>\n",
       "      <td>79.599998</td>\n",
       "      <td>67.815712</td>\n",
       "      <td>29.181013</td>\n",
       "      <td>28.603470</td>\n",
       "    </tr>\n",
       "    <tr>\n",
       "      <th>2015-03-04 00:00:00-05:00</th>\n",
       "      <td>3.05</td>\n",
       "      <td>80.900002</td>\n",
       "      <td>67.110001</td>\n",
       "      <td>28.996033</td>\n",
       "      <td>28.590006</td>\n",
       "    </tr>\n",
       "    <tr>\n",
       "      <th>2015-03-05 00:00:00-05:00</th>\n",
       "      <td>2.98</td>\n",
       "      <td>81.209999</td>\n",
       "      <td>66.807144</td>\n",
       "      <td>28.515553</td>\n",
       "      <td>28.687738</td>\n",
       "    </tr>\n",
       "    <tr>\n",
       "      <th>2015-03-06 00:00:00-05:00</th>\n",
       "      <td>2.92</td>\n",
       "      <td>80.010002</td>\n",
       "      <td>64.874283</td>\n",
       "      <td>28.558411</td>\n",
       "      <td>28.306534</td>\n",
       "    </tr>\n",
       "  </tbody>\n",
       "</table>\n",
       "</div>"
      ],
      "text/plain": [
       "                           NFLX       AAPL       NFLX       AAPL       GOOG\n",
       "Date                                                                       \n",
       "2015-03-02 00:00:00-05:00  3.21  79.750000  68.607140  29.120102  28.488785\n",
       "2015-03-03 00:00:00-05:00  3.14  79.599998  67.815712  29.181013  28.603470\n",
       "2015-03-04 00:00:00-05:00  3.05  80.900002  67.110001  28.996033  28.590006\n",
       "2015-03-05 00:00:00-05:00  2.98  81.209999  66.807144  28.515553  28.687738\n",
       "2015-03-06 00:00:00-05:00  2.92  80.010002  64.874283  28.558411  28.306534"
      ]
     },
     "execution_count": 23,
     "metadata": {},
     "output_type": "execute_result"
    }
   ],
   "source": [
    "final_df.head()"
   ]
  },
  {
   "attachments": {},
   "cell_type": "markdown",
   "metadata": {},
   "source": [
    "### Visualizing the Stocks/Portfolio"
   ]
  },
  {
   "cell_type": "code",
   "execution_count": 24,
   "metadata": {},
   "outputs": [
    {
     "data": {
      "image/png": "[encoded data removed]",
      "text/plain": [
       "<Figure size 432x288 with 1 Axes>"
      ]
     },
     "metadata": {
      "needs_background": "light"
     },
     "output_type": "display_data"
    }
   ],
   "source": [
    "# Visually show the stock/ portfolio\n",
    "title = 'Portfolio Close Price History'\n",
    "\n",
    "# Get the stocks\n",
    "my_stocks = final_df\n",
    "\n",
    "# Create and plot the graph\n",
    "for c in my_stocks.columns.values:\n",
    "  plt.plot(my_stocks[c],label=c)   # column name is c, label = name of the column\n",
    "\n",
    "plt.title(title)\n",
    "plt.xlabel('Date',fontsize=18)\n",
    "plt.ylabel('Close Price USD ($)',fontsize=18)\n",
    "plt.legend(my_stocks.columns.values,loc='upper left')\n",
    "plt.show()"
   ]
  },
  {
   "attachments": {},
   "cell_type": "markdown",
   "metadata": {},
   "source": [
    "From above, it is noted that the most expensive stock is , and the least expensive is AMD."
   ]
  },
  {
   "attachments": {},
   "cell_type": "markdown",
   "metadata": {},
   "source": [
    "### show the daily simple return for each stock and storing it in a new dataframe"
   ]
  },
  {
   "cell_type": "code",
   "execution_count": 25,
   "metadata": {},
   "outputs": [
    {
     "data": {
      "text/html": [
       "<div>\n",
       "<style scoped>\n",
       "    .dataframe tbody tr th:only-of-type {\n",
       "        vertical-align: middle;\n",
       "    }\n",
       "\n",
       "    .dataframe tbody tr th {\n",
       "        vertical-align: top;\n",
       "    }\n",
       "\n",
       "    .dataframe thead th {\n",
       "        text-align: right;\n",
       "    }\n",
       "</style>\n",
       "<table border=\"1\" class=\"dataframe\">\n",
       "  <thead>\n",
       "    <tr style=\"text-align: right;\">\n",
       "      <th></th>\n",
       "      <th>NFLX</th>\n",
       "      <th>AAPL</th>\n",
       "      <th>NFLX</th>\n",
       "      <th>AAPL</th>\n",
       "      <th>GOOG</th>\n",
       "    </tr>\n",
       "    <tr>\n",
       "      <th>Date</th>\n",
       "      <th></th>\n",
       "      <th></th>\n",
       "      <th></th>\n",
       "      <th></th>\n",
       "      <th></th>\n",
       "    </tr>\n",
       "  </thead>\n",
       "  <tbody>\n",
       "    <tr>\n",
       "      <th>2015-03-02 00:00:00-05:00</th>\n",
       "      <td>NaN</td>\n",
       "      <td>NaN</td>\n",
       "      <td>NaN</td>\n",
       "      <td>NaN</td>\n",
       "      <td>NaN</td>\n",
       "    </tr>\n",
       "    <tr>\n",
       "      <th>2015-03-03 00:00:00-05:00</th>\n",
       "      <td>-0.021807</td>\n",
       "      <td>-0.001881</td>\n",
       "      <td>-0.011536</td>\n",
       "      <td>0.002092</td>\n",
       "      <td>0.004026</td>\n",
       "    </tr>\n",
       "    <tr>\n",
       "      <th>2015-03-04 00:00:00-05:00</th>\n",
       "      <td>-0.028662</td>\n",
       "      <td>0.016332</td>\n",
       "      <td>-0.010406</td>\n",
       "      <td>-0.006339</td>\n",
       "      <td>-0.000471</td>\n",
       "    </tr>\n",
       "    <tr>\n",
       "      <th>2015-03-05 00:00:00-05:00</th>\n",
       "      <td>-0.022951</td>\n",
       "      <td>0.003832</td>\n",
       "      <td>-0.004513</td>\n",
       "      <td>-0.016571</td>\n",
       "      <td>0.003418</td>\n",
       "    </tr>\n",
       "    <tr>\n",
       "      <th>2015-03-06 00:00:00-05:00</th>\n",
       "      <td>-0.020134</td>\n",
       "      <td>-0.014776</td>\n",
       "      <td>-0.028932</td>\n",
       "      <td>0.001503</td>\n",
       "      <td>-0.013288</td>\n",
       "    </tr>\n",
       "    <tr>\n",
       "      <th>...</th>\n",
       "      <td>...</td>\n",
       "      <td>...</td>\n",
       "      <td>...</td>\n",
       "      <td>...</td>\n",
       "      <td>...</td>\n",
       "    </tr>\n",
       "    <tr>\n",
       "      <th>2023-02-23 00:00:00-05:00</th>\n",
       "      <td>0.040987</td>\n",
       "      <td>0.005376</td>\n",
       "      <td>-0.033534</td>\n",
       "      <td>0.003291</td>\n",
       "      <td>-0.007952</td>\n",
       "    </tr>\n",
       "    <tr>\n",
       "      <th>2023-02-24 00:00:00-05:00</th>\n",
       "      <td>-0.020815</td>\n",
       "      <td>-0.009591</td>\n",
       "      <td>-0.020083</td>\n",
       "      <td>-0.018005</td>\n",
       "      <td>-0.018887</td>\n",
       "    </tr>\n",
       "    <tr>\n",
       "      <th>2023-02-27 00:00:00-05:00</th>\n",
       "      <td>0.008708</td>\n",
       "      <td>-0.004989</td>\n",
       "      <td>0.018540</td>\n",
       "      <td>0.008248</td>\n",
       "      <td>0.008394</td>\n",
       "    </tr>\n",
       "    <tr>\n",
       "      <th>2023-02-28 00:00:00-05:00</th>\n",
       "      <td>-0.002412</td>\n",
       "      <td>0.031851</td>\n",
       "      <td>-0.002786</td>\n",
       "      <td>-0.003448</td>\n",
       "      <td>0.002220</td>\n",
       "    </tr>\n",
       "    <tr>\n",
       "      <th>2023-03-01 00:00:00-05:00</th>\n",
       "      <td>-0.003691</td>\n",
       "      <td>-0.008689</td>\n",
       "      <td>-0.026852</td>\n",
       "      <td>-0.014246</td>\n",
       "      <td>0.002326</td>\n",
       "    </tr>\n",
       "  </tbody>\n",
       "</table>\n",
       "<p>2015 rows × 5 columns</p>\n",
       "</div>"
      ],
      "text/plain": [
       "                               NFLX      AAPL      NFLX      AAPL      GOOG\n",
       "Date                                                                       \n",
       "2015-03-02 00:00:00-05:00       NaN       NaN       NaN       NaN       NaN\n",
       "2015-03-03 00:00:00-05:00 -0.021807 -0.001881 -0.011536  0.002092  0.004026\n",
       "2015-03-04 00:00:00-05:00 -0.028662  0.016332 -0.010406 -0.006339 -0.000471\n",
       "2015-03-05 00:00:00-05:00 -0.022951  0.003832 -0.004513 -0.016571  0.003418\n",
       "2015-03-06 00:00:00-05:00 -0.020134 -0.014776 -0.028932  0.001503 -0.013288\n",
       "...                             ...       ...       ...       ...       ...\n",
       "2023-02-23 00:00:00-05:00  0.040987  0.005376 -0.033534  0.003291 -0.007952\n",
       "2023-02-24 00:00:00-05:00 -0.020815 -0.009591 -0.020083 -0.018005 -0.018887\n",
       "2023-02-27 00:00:00-05:00  0.008708 -0.004989  0.018540  0.008248  0.008394\n",
       "2023-02-28 00:00:00-05:00 -0.002412  0.031851 -0.002786 -0.003448  0.002220\n",
       "2023-03-01 00:00:00-05:00 -0.003691 -0.008689 -0.026852 -0.014246  0.002326\n",
       "\n",
       "[2015 rows x 5 columns]"
      ]
     },
     "execution_count": 25,
     "metadata": {},
     "output_type": "execute_result"
    }
   ],
   "source": [
    "returns = final_df.pct_change()\n",
    "returns"
   ]
  },
  {
   "attachments": {},
   "cell_type": "markdown",
   "metadata": {},
   "source": [
    "NB: Returns = New price / (old price -1)"
   ]
  },
  {
   "attachments": {},
   "cell_type": "markdown",
   "metadata": {},
   "source": [
    "### Creating and showing the annualized covariance matrix\n",
    "This is a statistical concept that shows how much 2 random variables vary or move together. It shows the relationship"
   ]
  },
  {
   "cell_type": "code",
   "execution_count": 26,
   "metadata": {},
   "outputs": [
    {
     "data": {
      "text/html": [
       "<div>\n",
       "<style scoped>\n",
       "    .dataframe tbody tr th:only-of-type {\n",
       "        vertical-align: middle;\n",
       "    }\n",
       "\n",
       "    .dataframe tbody tr th {\n",
       "        vertical-align: top;\n",
       "    }\n",
       "\n",
       "    .dataframe thead th {\n",
       "        text-align: right;\n",
       "    }\n",
       "</style>\n",
       "<table border=\"1\" class=\"dataframe\">\n",
       "  <thead>\n",
       "    <tr style=\"text-align: right;\">\n",
       "      <th></th>\n",
       "      <th>NFLX</th>\n",
       "      <th>AAPL</th>\n",
       "      <th>NFLX</th>\n",
       "      <th>AAPL</th>\n",
       "      <th>GOOG</th>\n",
       "    </tr>\n",
       "  </thead>\n",
       "  <tbody>\n",
       "    <tr>\n",
       "      <th>NFLX</th>\n",
       "      <td>0.371825</td>\n",
       "      <td>0.082380</td>\n",
       "      <td>0.093274</td>\n",
       "      <td>0.079962</td>\n",
       "      <td>0.068268</td>\n",
       "    </tr>\n",
       "    <tr>\n",
       "      <th>AAPL</th>\n",
       "      <td>0.082380</td>\n",
       "      <td>0.146758</td>\n",
       "      <td>0.082811</td>\n",
       "      <td>0.063498</td>\n",
       "      <td>0.072986</td>\n",
       "    </tr>\n",
       "    <tr>\n",
       "      <th>NFLX</th>\n",
       "      <td>0.093274</td>\n",
       "      <td>0.082811</td>\n",
       "      <td>0.206683</td>\n",
       "      <td>0.058915</td>\n",
       "      <td>0.062692</td>\n",
       "    </tr>\n",
       "    <tr>\n",
       "      <th>AAPL</th>\n",
       "      <td>0.079962</td>\n",
       "      <td>0.063498</td>\n",
       "      <td>0.058915</td>\n",
       "      <td>0.089194</td>\n",
       "      <td>0.055261</td>\n",
       "    </tr>\n",
       "    <tr>\n",
       "      <th>GOOG</th>\n",
       "      <td>0.068268</td>\n",
       "      <td>0.072986</td>\n",
       "      <td>0.062692</td>\n",
       "      <td>0.055261</td>\n",
       "      <td>0.082630</td>\n",
       "    </tr>\n",
       "  </tbody>\n",
       "</table>\n",
       "</div>"
      ],
      "text/plain": [
       "          NFLX      AAPL      NFLX      AAPL      GOOG\n",
       "NFLX  0.371825  0.082380  0.093274  0.079962  0.068268\n",
       "AAPL  0.082380  0.146758  0.082811  0.063498  0.072986\n",
       "NFLX  0.093274  0.082811  0.206683  0.058915  0.062692\n",
       "AAPL  0.079962  0.063498  0.058915  0.089194  0.055261\n",
       "GOOG  0.068268  0.072986  0.062692  0.055261  0.082630"
      ]
     },
     "execution_count": 26,
     "metadata": {},
     "output_type": "execute_result"
    }
   ],
   "source": [
    "cov_matrix_annual = returns.cov()*252  # 252 = no. of trading days per year\n",
    "cov_matrix_annual"
   ]
  },
  {
   "attachments": {},
   "cell_type": "markdown",
   "metadata": {},
   "source": [
    "From above, on the diagonal we have the variance. And the rest of the entries are co-variance. If we take the square root of the variance, we get the volatility.\n",
    "\n",
    "If the co-variance is positive, the stock prices move together, when one increases, the other increases."
   ]
  },
  {
   "attachments": {},
   "cell_type": "markdown",
   "metadata": {},
   "source": [
    "### Calculating the portfolio variance\n",
    "Weights(transposed) x covariance matrix x weights"
   ]
  },
  {
   "cell_type": "code",
   "execution_count": 28,
   "metadata": {},
   "outputs": [],
   "source": [
    "weights = np.array([0.2, 0.2, 0.2, 0.2, 0.2])"
   ]
  },
  {
   "cell_type": "code",
   "execution_count": 29,
   "metadata": {},
   "outputs": [
    {
     "data": {
      "text/plain": [
       "0.09348733705729874"
      ]
     },
     "execution_count": 29,
     "metadata": {},
     "output_type": "execute_result"
    }
   ],
   "source": [
    "port_variance = np.dot(weights.T,np.dot(cov_matrix_annual,weights))\n",
    "port_variance"
   ]
  },
  {
   "attachments": {},
   "cell_type": "markdown",
   "metadata": {},
   "source": [
    "### Calculate the portfolio volatility(standard deviation)"
   ]
  },
  {
   "cell_type": "code",
   "execution_count": 30,
   "metadata": {},
   "outputs": [
    {
     "data": {
      "text/plain": [
       "0.3057569902018574"
      ]
     },
     "execution_count": 30,
     "metadata": {},
     "output_type": "execute_result"
    }
   ],
   "source": [
    "port_volatility = np.sqrt(port_variance)\n",
    "port_volatility"
   ]
  },
  {
   "attachments": {},
   "cell_type": "markdown",
   "metadata": {},
   "source": [
    "### Calculating the annual portfolio return\n",
    "We sum the average of the returns by weights"
   ]
  },
  {
   "cell_type": "code",
   "execution_count": 31,
   "metadata": {},
   "outputs": [
    {
     "data": {
      "text/plain": [
       "0.2960503843065948"
      ]
     },
     "execution_count": 31,
     "metadata": {},
     "output_type": "execute_result"
    }
   ],
   "source": [
    "portfolio_simple_annual_return = np.sum(returns.mean()*weights)*252\n",
    "portfolio_simple_annual_return"
   ]
  },
  {
   "attachments": {},
   "cell_type": "markdown",
   "metadata": {},
   "source": [
    "### Showing the expected annual return, volatility (risk), and the variance"
   ]
  },
  {
   "cell_type": "code",
   "execution_count": 32,
   "metadata": {},
   "outputs": [
    {
     "name": "stdout",
     "output_type": "stream",
     "text": [
      "Expected annual return: 30.0%\n",
      "Annual volatility/risk: 31.0%\n",
      "Annual variance: 9.0%\n"
     ]
    }
   ],
   "source": [
    "percent_var = str(round(port_variance,2)*100)+'%'\n",
    "percent_vola = str(round(port_volatility,2)*100)+'%'\n",
    "percent_ret = str(round(portfolio_simple_annual_return,2)*100)+'%'\n",
    "\n",
    "print('Expected annual return: '+percent_ret)\n",
    "print('Annual volatility/risk: '+percent_vola)\n",
    "print('Annual variance: '+percent_var)"
   ]
  },
  {
   "attachments": {},
   "cell_type": "markdown",
   "metadata": {},
   "source": [
    "For this portfolio and the current weights that we have(33.33% for each of the stocks), we get an annual expected return of 35%, and 37% risk, and the annual variance is 14%.\n",
    "\n",
    "Let's try to get a higher return for a lower risk.\n"
   ]
  },
  {
   "cell_type": "code",
   "execution_count": 113,
   "metadata": {},
   "outputs": [],
   "source": [
    "# pip install PyPortfolioOpt"
   ]
  },
  {
   "cell_type": "code",
   "execution_count": 33,
   "metadata": {},
   "outputs": [],
   "source": [
    "from pypfopt.efficient_frontier import EfficientFrontier\n",
    "from pypfopt import risk_models\n",
    "from pypfopt import expected_returns\n",
    "from pypfopt import plotting"
   ]
  },
  {
   "attachments": {},
   "cell_type": "markdown",
   "metadata": {},
   "source": [
    "### Portfolio Optimization"
   ]
  },
  {
   "cell_type": "code",
   "execution_count": 34,
   "metadata": {},
   "outputs": [
    {
     "name": "stdout",
     "output_type": "stream",
     "text": [
      "OrderedDict([('NFLX', 0.39425), ('AAPL', 0.61953), ('GOOG', -0.61953)])\n",
      "Expected annual return: 52.3%\n",
      "Annual volatility: 60.6%\n",
      "Sharpe Ratio: 0.83\n"
     ]
    },
    {
     "data": {
      "text/plain": [
       "(0.5227745920543827, 0.6060780686435274, 0.8295541747281009)"
      ]
     },
     "execution_count": 34,
     "metadata": {},
     "output_type": "execute_result"
    }
   ],
   "source": [
    "# Calculate the expected returns and the annualized sample \n",
    "# covariance matrix of asset returns\n",
    "mu = expected_returns.mean_historical_return(final_df)   # mean\n",
    "S = risk_models.sample_cov(final_df)   # sample covariance matrix\n",
    "\n",
    "# Optimize for maximum sharpe ratio - how much excess return you recieve \n",
    "# for some amount of volatility. It measures the performance of an investment\n",
    "# compared to an investment that is risk free such as bond, treasure bills\n",
    "ef = EfficientFrontier(mu,S,weight_bounds=(None,None))   # create ef object\n",
    "ef.add_constraint(lambda w: w[0]+w[1]+w[2] == 1)\n",
    "weights = ef.max_sharpe()  # maximize sharp ratio and get raw weights\n",
    "cleaned_weights = ef.clean_weights() # helper method to clean the raw weights, it sets any weights whose abs values are below its cutoff. In this one, the cutoff is defaulted, but we may change this.\n",
    "print(cleaned_weights)\n",
    "ef.portfolio_performance(verbose=True)"
   ]
  },
  {
   "attachments": {},
   "cell_type": "markdown",
   "metadata": {},
   "source": [
    "From above, if there is a stock with 0.0, that would mean that we wouldn't need it. The numbers should ideally be summed to 1. 0.923 and 0.4016 should be equal to 1, sometimes might be off because the roundings.\n",
    "\n",
    "### So according to the package, these are the best portfolio according to the stocks we have inputted."
   ]
  },
  {
   "cell_type": "code",
   "execution_count": null,
   "metadata": {},
   "outputs": [],
   "source": [
    "# Get the discrete allocation of each share per stock\n",
    "from pypfopt.discrete_allocation import DiscreteAllocation, get_latest_prices\n",
    "\n",
    "latest_prices = get_latest_prices(df)\n",
    "weights = cleaned_weights\n",
    "da = DiscreteAllocation(weights,latest_prices,total_portfolio_value = 50000)\n",
    "\n",
    "allocation,leftover = da.lp_portfolio()\n",
    "print('Discrete allocation: ',allocation)\n",
    "print('Funds remaining: ${:.2f}'.format(leftover))"
   ]
  },
  {
   "cell_type": "code",
   "execution_count": null,
   "metadata": {},
   "outputs": [],
   "source": [
    "# Portfolio Optimization\n",
    "\n",
    "# Calculate the expected returns and the annualized sample covariance matrix of asset returns\n",
    "mu = expected_returns.mean_historical_return(df)\n",
    "S = risk_models.sample_cov(df)\n",
    "\n",
    "# Optimize for maximum sharpe ratio\n",
    "ef = EfficientFrontier(mu,S,weight_bounds=(None,None))\n",
    "ef.add_constraint(lambda w: w[0]+w[1]+w[2]+w[3] == 1)\n",
    "plotting.plot_efficient_frontier(ef)\n",
    "weights = ef.max_sharpe()\n",
    "cleaned_weights = ef.clean_weights() \n",
    "print(cleaned_weights)\n",
    "ef.portfolio_performance(verbose=True)\n",
    "\n",
    "\n"
   ]
  },
  {
   "cell_type": "code",
   "execution_count": null,
   "metadata": {},
   "outputs": [],
   "source": [
    "# Portfolio Optimization\n",
    "\n",
    "# Calculate the expected returns and the annualized sample covariance matrix of asset returns\n",
    "mu = expected_returns.mean_historical_return(df)\n",
    "S = risk_models.sample_cov(df)\n",
    "\n",
    "# Optimize for maximum sharpe ratio\n",
    "ef = EfficientFrontier(mu,S,weight_bounds=(None,None))\n",
    "ef.add_constraint(lambda w: w[0]+w[1]+w[2]+w[3] == 1)\n",
    "# 100 portfolios with risks between 0.10 and 0.30\n",
    "risk_range = np.linspace(0.30, 0.80, 1000)\n",
    "plotting.plot_efficient_frontier(ef, ef_param=\"risk\", ef_param_range=risk_range,show_assets=True, showfig=True)\n",
    "weights = ef.max_sharpe()\n",
    "cleaned_weights = ef.clean_weights() \n",
    "print(cleaned_weights)\n",
    "ef.portfolio_performance(verbose=True)\n"
   ]
  },
  {
   "cell_type": "code",
   "execution_count": null,
   "metadata": {},
   "outputs": [],
   "source": [
    "# Calculate the expected returns and the annualized sample covariance matrix of asset returns\n",
    "mu = expected_returns.mean_historical_return(df)\n",
    "S = risk_models.sample_cov(df)\n",
    "\n",
    "# Optimize for maximum sharpe ratio\n",
    "ef = EfficientFrontier(mu,S,weight_bounds=(None,None))\n",
    "ef.add_constraint(lambda w: w[0]+w[1]+w[2]+w[3] == 1)\n",
    "\n",
    "fig, ax = plt.subplots()\n",
    "plotting.plot_efficient_frontier(ef, ax=ax, show_assets=False)\n",
    "\n",
    "# Find the tangency portfolio\n",
    "ef.max_sharpe()\n",
    "ret_tangent, std_tangent, _ = ef.portfolio_performance()\n",
    "ax.scatter(std_tangent, ret_tangent, marker=\"*\", s=100, c=\"r\", label=\"Max Sharpe\")\n",
    "\n",
    "# Generate random portfolios\n",
    "n_samples = 10000\n",
    "w = np.random.dirichlet(np.ones(len(mu)), n_samples)\n",
    "rets = w.dot(mu)\n",
    "stds = np.sqrt(np.diag(w @ S @ w.T))\n",
    "sharpes = rets / stds\n",
    "ax.scatter(stds, rets, marker=\".\", c=sharpes, cmap=\"viridis_r\")\n",
    "\n",
    "# Output\n",
    "ax.set_title(\"Efficient Frontier with random portfolios\")\n",
    "ax.legend()\n",
    "plt.tight_layout()\n",
    "plt.savefig(\"ef_scatter.png\", dpi=200)\n",
    "plt.show()"
   ]
  },
  {
   "cell_type": "code",
   "execution_count": null,
   "metadata": {},
   "outputs": [],
   "source": []
  },
  {
   "cell_type": "code",
   "execution_count": null,
   "metadata": {},
   "outputs": [],
   "source": []
  },
  {
   "cell_type": "code",
   "execution_count": null,
   "metadata": {},
   "outputs": [],
   "source": []
  },
  {
   "cell_type": "code",
   "execution_count": null,
   "metadata": {},
   "outputs": [],
   "source": []
  },
  {
   "cell_type": "code",
   "execution_count": null,
   "metadata": {},
   "outputs": [],
   "source": []
  }
 ],
 "metadata": {
  "kernelspec": {
   "display_name": "base",
   "language": "python",
   "name": "python3"
  },
  "language_info": {
   "codemirror_mode": {
    "name": "ipython",
    "version": 3
   },
   "file_extension": ".py",
   "mimetype": "text/x-python",
   "name": "python",
   "nbconvert_exporter": "python",
   "pygments_lexer": "ipython3",
   "version": "3.9.12"
  },
  "orig_nbformat": 4,
  "vscode": {
   "interpreter": {
    "hash": "c5f82f2ec8e4849f947c1d1faf6b8095fc4da73e61ec828c1f87bc5949fb8fab"
   }
  }
 },
 "nbformat": 4,
 "nbformat_minor": 2
}
