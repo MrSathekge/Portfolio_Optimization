{
 "cells": [
  {
   "attachments": {},
   "cell_type": "markdown",
   "metadata": {},
   "source": [
    "# Portfolio Optimization\n",
    "\n",
    "Portfolio Optimization is the process of selecting the best portfolio out of the set of portfolios being considered according to some objective. The objective typically maximizes factors such as:\n",
    "- Expected returns, and\n",
    "- Minimizes cost like financial risk\n",
    "\n",
    "The goal is to find the optimal combination of assets that will provide the highest expected return for a given level of risk or the lowest risk for a given level of return.\n",
    "\n",
    "The optimization process involves selecting a set of assets and determining the optimal allocation of funds to each asset. This requires analyzing historical market data, assessing the risk and return of each asset, and considering how the assets might perform under different market conditions.\n",
    "\n",
    "Portfolio optimization is an important tool for investors who want to achieve a specific investment goal, such as maximizing their returns or minimizing their risk. It is commonly used by fund managers, financial advisors, and individual investors to construct investment portfolios that meet their specific needs and objectives."
   ]
  },
  {
   "attachments": {},
   "cell_type": "markdown",
   "metadata": {},
   "source": [
    "### Data Description"
   ]
  },
  {
   "cell_type": "code",
   "execution_count": null,
   "metadata": {},
   "outputs": [],
   "source": []
  },
  {
   "attachments": {},
   "cell_type": "markdown",
   "metadata": {},
   "source": [
    "### Importing Packages"
   ]
  },
  {
   "cell_type": "code",
   "execution_count": null,
   "metadata": {},
   "outputs": [],
   "source": []
  },
  {
   "cell_type": "code",
   "execution_count": null,
   "metadata": {},
   "outputs": [],
   "source": []
  },
  {
   "cell_type": "code",
   "execution_count": null,
   "metadata": {},
   "outputs": [],
   "source": []
  },
  {
   "cell_type": "code",
   "execution_count": null,
   "metadata": {},
   "outputs": [],
   "source": []
  },
  {
   "cell_type": "code",
   "execution_count": null,
   "metadata": {},
   "outputs": [],
   "source": []
  },
  {
   "cell_type": "code",
   "execution_count": null,
   "metadata": {},
   "outputs": [],
   "source": []
  },
  {
   "cell_type": "code",
   "execution_count": null,
   "metadata": {},
   "outputs": [],
   "source": []
  }
 ],
 "metadata": {
  "language_info": {
   "name": "python"
  },
  "orig_nbformat": 4
 },
 "nbformat": 4,
 "nbformat_minor": 2
}
